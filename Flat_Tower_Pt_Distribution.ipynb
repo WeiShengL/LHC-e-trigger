{
 "cells": [
  {
   "cell_type": "markdown",
   "metadata": {},
   "source": [
    "# Flat Trigger Tower Pt Distribution\n",
    "\n",
    "In this notebook, we will be applying simple eFEX cuts to full data, then with the remaining data, removing electron or jet events accordingly to create a data with the same trigger tower pt distribution for both electrons and jets."
   ]
  },
  {
   "cell_type": "code",
   "execution_count": 2,
   "metadata": {},
   "outputs": [],
   "source": [
    "# Importing required packages\n",
    "import numpy as np\n",
    "import matplotlib as mpl  \n",
    "import matplotlib.pyplot as plt\n",
    "from sklearn.metrics import roc_curve\n",
    "from sklearn.metrics import roc_auc_score"
   ]
  },
  {
   "cell_type": "code",
   "execution_count": 3,
   "metadata": {},
   "outputs": [],
   "source": [
    "# Setting up parameters for plots\n",
    "mpl.rcParams['figure.figsize'] = [14.0, 10.0]\n",
    "mpl.rcParams['font.size']=15\n",
    "# plt.style.use('seaborn-darkgrid')"
   ]
  },
  {
   "cell_type": "code",
   "execution_count": 4,
   "metadata": {},
   "outputs": [],
   "source": [
    "# atlas_style = AtlasStyle(\n",
    "#     atlas='Simulation Internal',\n",
    "#     offset=7,\n",
    "#     indent=7,\n",
    "#     font_size=33,\n",
    "#     label_font_size=23,\n",
    "#     sub_font_size=30,\n",
    "#     enlarge=1\n",
    "# )"
   ]
  },
  {
   "cell_type": "markdown",
   "metadata": {},
   "source": [
    "## Importing data"
   ]
  },
  {
   "cell_type": "code",
   "execution_count": 5,
   "metadata": {},
   "outputs": [
    {
     "name": "stdout",
     "output_type": "stream",
     "text": [
      "Initial number of ele data 27524\n",
      "Initial number of jet data 45749\n",
      "Shape of data (63,)\n"
     ]
    }
   ],
   "source": [
    "ele_data = np.loadtxt('elefull(nolabels).txt', delimiter = '\t')\n",
    "\n",
    "jet_data1 = np.loadtxt('jetfull(nolabels).txt', delimiter = '\t')\n",
    "jet_data2 = np.loadtxt('jetfull_jz1(nolabels).txt', delimiter = '\t')\n",
    "jet_data3 = np.loadtxt('jetfull_jz2(nolabels).txt', delimiter = '\t')\n",
    "jet_data4 = np.loadtxt('jetfull_jz3(nolabels).txt', delimiter = '\t')\n",
    "\n",
    "jet_data = np.concatenate((jet_data1, jet_data2, jet_data3, jet_data4), axis =0)\n",
    "\n",
    "print(\"Initial number of ele data\", len(ele_data))\n",
    "print(\"Initial number of jet data\", len(jet_data))\n",
    "print(\"Shape of data\", np.shape(ele_data[0]))"
   ]
  },
  {
   "cell_type": "markdown",
   "metadata": {},
   "source": [
    "## Applying simple eFEX cuts\n",
    "\n",
    "Similarly from \"*Simple_Parameter_Cut.ipynb*\", the cut values are found and applied."
   ]
  },
  {
   "cell_type": "code",
   "execution_count": 6,
   "metadata": {},
   "outputs": [],
   "source": [
    "cut_est = [np.linspace(0.8, 0.9, 1000),\n",
    "           np.linspace(10000, 15000, 1000),\n",
    "           np.linspace(0, 0.07, 1000),\n",
    "           np.linspace(0, 0.04, 1000),\n",
    "          ]\n",
    "sig = [0.98,0.99,0.99,0.99]\n",
    "\n",
    "para_name = [\"Reta\",\"ws2\",\"rhad\",\"f3\"]\n",
    "\n",
    "para_index = [6,8,10,9]\n",
    "\n",
    "para_type = [1, 1, 2, 2]"
   ]
  },
  {
   "cell_type": "code",
   "execution_count": 7,
   "metadata": {},
   "outputs": [],
   "source": [
    "def cut_value(cut_est, sig, para_name, para_index, para_type):\n",
    "    '''\n",
    "    Function to find cut value given a specific signal efficiency using a for loop\n",
    "    \n",
    "    Input:\n",
    "    cut_est = estimated range of cut value\n",
    "    sig = required signal efficiency\n",
    "    para_name = parameter cut name\n",
    "    para_index = parameter cut index in data\n",
    "    para_type = two types of cut\n",
    "    \n",
    "    Output:\n",
    "    cut = final cut value\n",
    "    '''\n",
    "    # Initialise cut value\n",
    "    cut = 0\n",
    "    \n",
    "    # Loop to find cut value in estimated range that gives required signal efficiency\n",
    "    for i in cut_est:\n",
    "        ele_store = []                               # temporary storage for electron that passes cut\n",
    "        \n",
    "        # Two types of cut (above/below cut value)\n",
    "        if para_type == 1:\n",
    "            for j in range(len(ele_data)):\n",
    "                if ele_data[j][para_index] >= i:\n",
    "                    ele_store.append(ele_data[j])\n",
    "            est_sig = len(ele_store)/len(ele_data)   # calculating signal efficiency using estimated cut\n",
    "            if est_sig <= sig:                       # stop loop when required signal efficiency is achieved\n",
    "                cut = i\n",
    "                break\n",
    "                \n",
    "        if para_type == 2:\n",
    "            for j in range(len(ele_data)):\n",
    "                if ele_data[j][para_index] <= i:\n",
    "                    ele_store.append(ele_data[j])\n",
    "            est_sig = len(ele_store)/len(ele_data)  # calculating signal efficiency using estimated cut\n",
    "            if est_sig >= sig:                      # stop loop when required signal efficiency is achieved\n",
    "                cut = i\n",
    "                break\n",
    "                \n",
    "    print(para_name, \"cut value for {0:.4f} signal efficiency = {1:.5f}\".format(est_sig, cut)) # print cut value and signal efficiency achieved\n",
    "    return cut"
   ]
  },
  {
   "cell_type": "code",
   "execution_count": 8,
   "metadata": {},
   "outputs": [
    {
     "name": "stdout",
     "output_type": "stream",
     "text": [
      "Reta cut value for 0.9799 signal efficiency = 0.85215\n",
      "ws2 cut value for 0.9897 signal efficiency = 14604.60460\n",
      "rhad cut value for 0.9900 signal efficiency = 0.05543\n",
      "f3 cut value for 0.9900 signal efficiency = 0.02539\n",
      "Final signal efficiency achieved = 0.9541\n"
     ]
    }
   ],
   "source": [
    "# Using function to find cut value for each parameter\n",
    "cut = []\n",
    "for i, j, k, l, m in zip(cut_est, sig, para_name, para_index, para_type):\n",
    "    cut.append(cut_value(i, j, k, l,m))\n",
    "    \n",
    "\n",
    "# Applying cut to ele data    \n",
    "ele_data_cut = []\n",
    "for i in range (len(ele_data)):\n",
    "    if ele_data[i][6]>=cut[0] and ele_data[i][8]>=cut[1] and ele_data[i][10]<=cut[2] and ele_data[i][9]<=cut[3]:\n",
    "        ele_data_cut.append(ele_data[i])\n",
    "        \n",
    "# Applying cut to jet data\n",
    "jet_data_cut = []\n",
    "for i in range (len(jet_data)):\n",
    "    if jet_data[i][6]>=cut[0] and jet_data[i][8]>=cut[1] and jet_data[i][10]<=cut[2] and jet_data[i][9]<=cut[3]:\n",
    "        jet_data_cut.append(jet_data[i])\n",
    "\n",
    "f_sig = len(ele_data_cut)/len(ele_data)                             # calculating final signal achieved\n",
    "print(\"Final signal efficiency achieved = {0:.4f}\".format(f_sig))   # print final signal efficiency"
   ]
  },
  {
   "cell_type": "markdown",
   "metadata": {},
   "source": [
    "## Creating Flat Trigger Tower Pt Distribution\n",
    "\n",
    "1. The original trigger tower distribution for electron and jet is plot with 200 bins at the same bin values.\n",
    "2. For each bin range, only keep a events depending on whether electrons or jets have a lower number of events.\n",
    "<br>\n",
    "For instance, let's take that at trigger tower pt range 20-21GeV, there are 1000 electron events and 200 jet events, we will only be keeping 200 electron events and all of jet events"
   ]
  },
  {
   "cell_type": "code",
   "execution_count": 9,
   "metadata": {},
   "outputs": [],
   "source": [
    "ele_tt = []                                     # array for electron trigger tower pt\n",
    "for i in range (len(ele_data_cut)):\n",
    "    ele_tt.append(ele_data_cut[i][3])\n",
    "    \n",
    "\n",
    "jet_tt = []                                     # array for jet trigger tower pt\n",
    "for i in range (len(jet_data_cut)):\n",
    "    jet_tt.append(jet_data_cut[i][3])\n",
    "    \n",
    "    \n",
    "sample_tt = np.append(ele_tt, jet_tt, axis=0)"
   ]
  },
  {
   "cell_type": "code",
   "execution_count": 10,
   "metadata": {},
   "outputs": [
    {
     "data": {
      "text/plain": [
       "(0.0, 2000.0)"
      ]
     },
     "execution_count": 10,
     "metadata": {},
     "output_type": "execute_result"
    },
    {
     "data": {
      "image/png": "[encoded data removed]",
      "text/plain": [
       "<Figure size 1008x720 with 1 Axes>"
      ]
     },
     "metadata": {
      "needs_background": "light"
     },
     "output_type": "display_data"
    }
   ],
   "source": [
    "ttbins = np.linspace(np.min(sample_tt), np.max(sample_tt), 201)                             # bin array for histogram\n",
    "\n",
    "# Plot\n",
    "plt.figure()\n",
    "n_ele, bins_ele, patches_ele = plt.hist(ele_tt, bins=ttbins, label = 'Electron', alpha=0.7) # electron tt pt plot\n",
    "n_jet, bins_jet, patches_jet = plt.hist(jet_tt, bins=ttbins, label = 'jetfull', alpha=0.7)  # jet tt pt plot\n",
    "plt.ylabel(\"Occurence\")                                                                     # label y-axes\n",
    "plt.xlabel(\"Trigger Tower Pt\")                                                              # label x-axes\n",
    "plt.title(\"Histogram Plot of Trigger Tower Pt\")                                             # plot title\n",
    "plt.legend(loc='best')                                                                      # show legend      \n",
    "plt.xlim(0, 100000)                                                                         # x-axes limit\n",
    "plt.ylim(0, 2000)                                                                           # y-axes limit"
   ]
  },
  {
   "cell_type": "markdown",
   "metadata": {},
   "source": [
    "## Removing data for every bin"
   ]
  },
  {
   "cell_type": "code",
   "execution_count": 11,
   "metadata": {},
   "outputs": [],
   "source": [
    "ele_flat = []                           # array for remaining electrons\n",
    "jet_flat = []                           # array for remaining jets\n",
    "\n",
    "for i in range (len(n_ele)):\n",
    "    n = 0\n",
    "    \n",
    "    # 1st scenario for no. of jet events > no. of ele events\n",
    "    if n_jet[i] > n_ele[i]:\n",
    "        \n",
    "        # Keep all electron events\n",
    "        for j in range (len(ele_data_cut)):\n",
    "            if ele_data_cut[j][3] >= bins_ele[i] and ele_data_cut[j][3] < bins_ele[i+1]:\n",
    "                ele_flat.append(ele_data_cut[j])\n",
    "                \n",
    "        # Only keep jet events according to no. of ele events\n",
    "        for k in range (len(jet_data_cut)):\n",
    "            if jet_data_cut[k][3] >= bins_ele[i] and jet_data_cut[k][3] < bins_ele[i+1] and n <= n_ele[i]:\n",
    "                jet_flat.append(jet_data_cut[k])\n",
    "                n = n + 1\n",
    "                \n",
    "    # 2nd scenario for no. of jet events < no. of ele events\n",
    "    elif n_jet[i] < n_ele[i]:\n",
    "        \n",
    "        # Keep all jet events\n",
    "        for l in range (len(jet_data_cut)):\n",
    "                if jet_data_cut[l][3] >= bins_ele[i] and jet_data_cut[l][3] < bins_ele[i+1]:\n",
    "                    jet_flat.append(jet_data_cut[l])\n",
    "        \n",
    "        # Only keep ele events according to no. of jet events\n",
    "        for m in range (len(ele_data_cut)):\n",
    "            if ele_data_cut[m][3] >= bins_ele[i] and ele_data_cut[m][3] < bins_ele[i+1] and n <= n_jet[i]:\n",
    "                ele_flat.append(ele_data_cut[m])\n",
    "                n = n + 1"
   ]
  },
  {
   "cell_type": "markdown",
   "metadata": {},
   "source": [
    "## Histogram plot to verify flat distribution is created"
   ]
  },
  {
   "cell_type": "code",
   "execution_count": 15,
   "metadata": {
    "scrolled": false
   },
   "outputs": [
    {
     "data": {
      "image/png": "[encoded data removed]",
      "text/plain": [
       "<Figure size 1008x720 with 1 Axes>"
      ]
     },
     "metadata": {
      "needs_background": "light"
     },
     "output_type": "display_data"
    }
   ],
   "source": [
    "ele_flat_tt = []                          # array of trigger tower pt for remaning ele data\n",
    "for i in range (len(ele_flat)):\n",
    "    ele_flat_tt.append(ele_flat[i][3])\n",
    "    \n",
    "\n",
    "jet_flat_tt = []                          # array of trigger tower pt for reamining jet data\n",
    "for i in range (len(jet_flat)):\n",
    "    jet_flat_tt.append(jet_flat[i][3])\n",
    "    \n",
    "    \n",
    "# Plot of remaining ele compare to original jets\n",
    "# plt.figure()\n",
    "# n_ele, bins_ele, patches_ele = plt.hist(ele_flat_tt, bins=ttbins, label = 'Flat Electron', alpha=0.6) # remaining ele plot\n",
    "# n_jet, bins_jet, patches_jet = plt.hist(jet_tt, bins=ttbins, label = 'Original Jet', alpha=0.6)       # original jet plot\n",
    "# plt.ylabel(\"Occurence\")                                                                               # label y-axes\n",
    "# plt.xlabel(\"Trigger Tower Pt\")                                                                        # label x-axes\n",
    "# plt.title(\"Histogram Plot of Trigger Tower Pt\")                                                       # plot title\n",
    "# plt.legend(loc='best')                                                                                # show legend\n",
    "# plt.xlim(0, 100000)                                                                                   # x-axes limit\n",
    "# plt.ylim(0, 2000)                                                                                     # y-axes limit\n",
    "\n",
    "# # Plot of remaining jets compare to original ele\n",
    "# plt.figure()\n",
    "# n_ele, bins_ele, patches_ele = plt.hist(ele_tt, bins=ttbins, label = 'Original Electron', alpha=0.6)  # original ele plot\n",
    "# n_jet, bins_jet, patches_jet = plt.hist(jet_flat_tt, bins=ttbins, label = 'Flat Jet', alpha=0.6)      # remaning jet plot\n",
    "# plt.ylabel(\"Occurence\")                                                                               # label y-axes\n",
    "# plt.xlabel(\"Trigger Tower Pt\")                                                                        # label x-axes\n",
    "# plt.title(\"Histogram Plot of Trigger Tower Pt\")                                                       # plot title\n",
    "# plt.legend(loc='best')                                                                                # show legend\n",
    "# plt.xlim(0, 100000)                                                                                   # x-axes limit\n",
    "# plt.ylim(0, 2000)                                                                                     # y-axes limit\n",
    "\n",
    "ttbins = np.linspace(np.min(sample_tt/1000), np.max(sample_tt/1000), 201)                             # bin array for histogram\n",
    "\n",
    "for i in range (len(ele_flat_tt)):\n",
    "    ele_flat_tt[i] = ele_flat_tt[i]/1000\n",
    "\n",
    "for i in range (len(jet_flat_tt)):\n",
    "    jet_flat_tt[i] = jet_flat_tt[i]/1000\n",
    "# Plot of remaining data\n",
    "plt.figure()\n",
    "n_ele, bins_ele, patches_ele = plt.hist(ele_flat_tt,\n",
    "                                        bins=ttbins, label = 'Electron', \n",
    "                                        histtype='step', \n",
    "                                        lw=3, \n",
    "#                                         log=True,\n",
    "                                        density=True,\n",
    "                                        color='red'\n",
    "                                       ) # remaining ele plot\n",
    "n_jet, bins_jet, patches_jet = plt.hist(jet_flat_tt, \n",
    "                                        bins=ttbins, label = 'Jet',  \n",
    "                                        histtype='step', \n",
    "                                        lw=3, \n",
    "#                                         log=True,\n",
    "                                        density=True,\n",
    "                                        color='green'\n",
    "                                       )      # remaining jet plot\n",
    "plt.ylabel(\"Normalised number of events\", size=25)                                                                               # label y-axes\n",
    "plt.xlabel(\"Trigger Tower pT (GeV)\", size=25)                                                                        # label x-axes\n",
    "plt.title(\"Histogram Plot of Trigger Tower pT\", size=30)                                                       # plot title\n",
    "plt.legend(loc='best', frameon=False, fontsize=20)                                                                                # show legend\n",
    "plt.xlim(10, 150)    \n",
    "plt.yscale('log')\n",
    "plt.tick_params(axis='both', labelsize=20)\n",
    "# x-axes limit\n",
    "# plt.ylim(, 0.1)                                                                                     # y-axes limit\n",
    "# hist_leg(ax, ncol=2, fontsize=11)\n",
    "# AtlasStyle.apply\n",
    "\n",
    "# for i in range(len(ele_flat_tt)):\n",
    "#     ele_flat_tt[i] = ele_flat_tt[i]/1000\n",
    "# for i in range(len(jet_flat_tt)):\n",
    "#     jet_flat_tt[i] = jet_flat_tt[i]/1000\n",
    "\n",
    "\n",
    "# ttbins1 = np.linspace(np.min(np.concatenate((ele_flat_tt, jet_flat_tt))), np.max(np.concatenate((ele_flat_tt, jet_flat_tt))), 201)\n",
    "\n",
    "# plt.figure()\n",
    "# n_ele, bins_ele, patches_ele = plt.hist(ele_flat_tt, bins=ttbins1, label = 'Flat Electron', \n",
    "# #                                         alpha=0.7, \n",
    "#                                         histtype='step', \n",
    "#                                         lw = 3, \n",
    "#                                         density=True\n",
    "#                                        )\n",
    "# n_jet, bins_jet, patches_jet = plt.hist(jet_flat_tt, bins=ttbins1, label = 'Flat Jet',\n",
    "# #                                         alpha=0.7, \n",
    "#                                         histtype='step', \n",
    "#                                         lw = 3, \n",
    "#                                         density=True\n",
    "#                                        )\n",
    "# plt.ylabel(\"Normalised number of events\", size=25)\n",
    "# plt.xlabel(\"Trigger Tower Pt\", size=25)\n",
    "# # plt.title(\"Histogram Plot of Trigger Tower Pt\", size=30)\n",
    "# plt.legend(loc='best', frameon=False)\n",
    "# plt.xlim(10, 150)\n",
    "# plt.ylim(0, 1e-1)\n",
    "# plt.yscale('log')\n",
    "# atlas_style.apply()\n",
    "# plt.tick_params(axis='both', labelsize=20)"
   ]
  },
  {
   "cell_type": "code",
   "execution_count": 13,
   "metadata": {},
   "outputs": [
    {
     "name": "stdout",
     "output_type": "stream",
     "text": [
      "Final number of ele data remaining 5281\n",
      "Final number of jet data remaining 5314\n"
     ]
    }
   ],
   "source": [
    "print(\"Final number of ele data remaining\", len(ele_flat))\n",
    "print(\"Final number of jet data remaining\", len(jet_flat))\n",
    "from atlasify import AtlasStyle\n"
   ]
  },
  {
   "cell_type": "markdown",
   "metadata": {},
   "source": [
    "### Saving data as .txt file"
   ]
  },
  {
   "cell_type": "code",
   "execution_count": null,
   "metadata": {},
   "outputs": [],
   "source": [
    "# np.savetxt(\"cut_ele_data_flat.txt\", ele_flat,  delimiter = '\t')\n",
    "# np.savetxt(\"cut_jet_data_flat.txt\", jet_flat,  delimiter = '\t')"
   ]
  },
  {
   "cell_type": "code",
   "execution_count": null,
   "metadata": {},
   "outputs": [],
   "source": []
  }
 ],
 "metadata": {
  "kernelspec": {
   "display_name": "Python 3 (ipykernel)",
   "language": "python",
   "name": "python3"
  },
  "language_info": {
   "codemirror_mode": {
    "name": "ipython",
    "version": 3
   },
   "file_extension": ".py",
   "mimetype": "text/x-python",
   "name": "python",
   "nbconvert_exporter": "python",
   "pygments_lexer": "ipython3",
   "version": "3.9.12"
  }
 },
 "nbformat": 4,
 "nbformat_minor": 2
}
